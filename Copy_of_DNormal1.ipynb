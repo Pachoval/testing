{
  "nbformat": 4,
  "nbformat_minor": 0,
  "metadata": {
    "colab": {
      "provenance": [],
      "include_colab_link": true
    },
    "kernelspec": {
      "name": "python3",
      "display_name": "Python 3"
    },
    "language_info": {
      "name": "python"
    }
  },
  "cells": [
    {
      "cell_type": "markdown",
      "metadata": {
        "id": "view-in-github",
        "colab_type": "text"
      },
      "source": [
        "<a href=\"https://colab.research.google.com/github/Pachoval/testing/blob/main/Copy_of_DNormal1.ipynb\" target=\"_parent\"><img src=\"https://colab.research.google.com/assets/colab-badge.svg\" alt=\"Open In Colab\"/></a>"
      ]
    },
    {
      "cell_type": "code",
      "execution_count": null,
      "metadata": {
        "id": "L8Ar1bG-VwBo"
      },
      "outputs": [],
      "source": [
        "import pandas as pd\n",
        "import numpy as np\n",
        "\n",
        "# Importación del fichero datos-colesteroles.csv\n",
        "df = pd.read_csv(\n",
        "'https://raw.githubusercontent.com/asalber/manual-python/master/datos/colesteroles.csv', sep=';', decimal=',')\n",
        "print(df.head())\n",
        "\n",
        "# Usa pandas para cargar el archivo CSV en un DataFrame\n",
        "data = pd.read_csv('https://raw.githubusercontent.com/asalber/manual-python/master/datos/colesteroles.csv', sep=';', decimal=',')\n",
        "\n",
        "# Paso 2: Visualizar el DataFrame como una tabla de datos\n",
        "# Esto mostrará las primeras 5 filas del DataFrame\n",
        "print(\"Tabla de datos:\")\n",
        "print(data.head())\n",
        "\n",
        "# Paso 3: Realizar análisis estadístico descriptivo\n",
        "# Puedes obtener estadísticas resumidas para cada columna utilizando describe()\n",
        "descripcion = data.describe()\n",
        "\n",
        "# Esto mostrará estadísticas resumidas para cada columna\n",
        "print(\"\\nEstadísticas descriptivas:\")\n",
        "print(descripcion)\n",
        "\n",
        "# Calcular la media de cada columna\n",
        "media = data.mean()\n",
        "\n",
        "# Esto mostrará la media para cada columna\n",
        "print(\"\\nMedia de cada columna:\")\n",
        "print(media)\n",
        "\n",
        "# Calcular la mediana, varianza y desviación estándar de cada columna\n",
        "mediana = data.median()\n",
        "varianza = data.var()\n",
        "desviacion_estandar = data.std()\n",
        "\n",
        "# Esto mostrará la mediana, la varianza y la desviación estándar para cada columna\n",
        "print(\"\\nMediana de cada columna:\")\n",
        "print(mediana)\n",
        "print(\"\\nVarianza de cada columna:\")\n",
        "print(varianza)\n",
        "print(\"\\nDesviación estándar de cada columna:\")\n",
        "print(desviacion_estandar)"
      ]
    },
    {
      "cell_type": "code",
      "source": [
        "import numpy as np\n",
        "import matplotlib.pyplot as plt\n",
        "\n",
        "# Parámetros de la distribución normal estandar\n",
        "media = 0  # Media\n",
        "desviacion_estandar = 1  # Desviación estándar\n",
        "tamano_muestra = 1000  # Tamaño de la muestra\n",
        "# Generar valores aleatorios de la distribución normal\n",
        "datos = np.random.normal(media, desviacion_estandar, tamano_muestra)\n",
        "\n",
        "# Crear un histograma para visualizar la distribución\n",
        "plt.hist(datos, bins=30, density=True, alpha=0.6, color='b', label='Distribución Normal')\n",
        "plt.xlabel('Valor')\n",
        "plt.ylabel('Frecuencia')\n",
        "plt.title('Distribución Normal')\n",
        "plt.legend(loc='best')\n",
        "plt.show()\n"
      ],
      "metadata": {
        "colab": {
          "base_uri": "https://localhost:8080/",
          "height": 472
        },
        "id": "PFoOqlaJeya1",
        "outputId": "68042849-4944-4d12-9f74-d1b3ff3b8e59"
      },
      "execution_count": null,
      "outputs": [
        {
          "output_type": "display_data",
          "data": {
            "text/plain": [
              "<Figure size 640x480 with 1 Axes>"
            ],
            "image/png": "[encoded data removed]"
          },
          "metadata": {}
        }
      ]
    },
    {
      "cell_type": "code",
      "source": [],
      "metadata": {
        "id": "UNwweFFmrBnk"
      },
      "execution_count": null,
      "outputs": []
    },
    {
      "cell_type": "code",
      "source": [
        "import scipy.stats as stats\n",
        "\n",
        "media = 20\n",
        "desviacion_estandar = 5\n",
        "valor = 22\n",
        "\n",
        "# Calcula la probabilidad de que un valor sea superior a 22\n",
        "probabilidad = 1 - stats.norm.cdf(valor, loc=media, scale=desviacion_estandar)\n",
        "\n",
        "print(f\"La probabilidad de que un valor sea superior a {valor} es: {probabilidad:.4f}\")"
      ],
      "metadata": {
        "colab": {
          "base_uri": "https://localhost:8080/"
        },
        "id": "lZRKlMHtfZZo",
        "outputId": "cd3cd3dc-666f-4905-dc81-8848f6bc4d2b"
      },
      "execution_count": null,
      "outputs": [
        {
          "output_type": "stream",
          "name": "stdout",
          "text": [
            "La probabilidad de que un valor sea superior a 22 es: 0.3446\n"
          ]
        }
      ]
    },
    {
      "cell_type": "code",
      "source": [
        "import scipy.stats as stats\n",
        "\n",
        "media = 23\n",
        "desviacion_estandar = 2.8\n",
        "valor = 18\n",
        "\n",
        "# Calcula la probabilidad de que un valor sea menor a 18\n",
        "probabilidad = stats.norm.cdf(valor, loc=media, scale=desviacion_estandar)\n",
        "\n",
        "print(f\"La probabilidad de que un valor sea menor a {valor} es: {probabilidad:.4f}\")"
      ],
      "metadata": {
        "colab": {
          "base_uri": "https://localhost:8080/"
        },
        "id": "9DP70zhHMlKx",
        "outputId": "06939bd8-1e13-4863-a7e8-0c1c890a3c9e"
      },
      "execution_count": null,
      "outputs": [
        {
          "output_type": "stream",
          "name": "stdout",
          "text": [
            "La probabilidad de que un valor sea menor a 18 es: 0.0371\n"
          ]
        }
      ]
    },
    {
      "cell_type": "code",
      "source": [
        "import scipy.stats as stats\n",
        "\n",
        "media = 23\n",
        "desviacion_estandar = 2.8\n",
        "valor1 = 19\n",
        "valor2 = 24\n",
        "\n",
        "# Calcula la probabilidad de que un valor sea menor a 18\n",
        "probabilidad2= stats.norm.cdf(valor2, loc=media, scale=desviacion_estandar)\n",
        "probabilidad1= stats.norm.cdf(valor1, loc=media, scale=desviacion_estandar)\n",
        "\n",
        "print(f\"La probabilidad de que el valor este entre 19 y 24 es: {probabilidad2-probabilidad1:.4f}\")"
      ],
      "metadata": {
        "colab": {
          "base_uri": "https://localhost:8080/"
        },
        "id": "Mv7etfN6OgwX",
        "outputId": "c98f0e44-5b85-456b-e32e-8c323c6b1d19"
      },
      "execution_count": null,
      "outputs": [
        {
          "output_type": "stream",
          "name": "stdout",
          "text": [
            "La probabilidad de que el valor este entre 19 y 24 es: 0.5629\n"
          ]
        }
      ]
    },
    {
      "cell_type": "code",
      "source": [
        "import scipy.stats as stats\n",
        "\n",
        "media = 23\n",
        "desviacion_estandar = 2.8\n",
        "valor = 24\n",
        "\n",
        "# Calcula la probabilidad de que un valor sea mayor a 24\n",
        "probabilidad= stats.norm.cdf(valor, loc=media, scale=desviacion_estandar)\n",
        "\n",
        "\n",
        "print(f\"La probabilidad de que el valor sea mayor a 24 años es: {1-probabilidad:.4f}\")"
      ],
      "metadata": {
        "colab": {
          "base_uri": "https://localhost:8080/"
        },
        "id": "94xiNOE0Parm",
        "outputId": "24e308b6-f6ba-4585-b5dc-81f3bbdea06b"
      },
      "execution_count": null,
      "outputs": [
        {
          "output_type": "stream",
          "name": "stdout",
          "text": [
            "La probabilidad de que el valor sea mayor a 24 años es: 0.3605\n"
          ]
        }
      ]
    },
    {
      "cell_type": "code",
      "source": [
        "import scipy.stats as stats\n",
        "\n",
        "media = 23\n",
        "desviacion_estandar = 2.8\n",
        "valor1 = 18\n",
        "valor2 = 25\n",
        "\n",
        "# Calcula la probabilidad de que un valor sea menor a 18 o mayor a 25\n",
        "probabilidad2= stats.norm.cdf(valor2, loc=media, scale=desviacion_estandar)\n",
        "probabilidad1= stats.norm.cdf(valor1, loc=media, scale=desviacion_estandar)\n",
        "\n",
        "print(f\"La probabilidad de que el valor menor a 18 y mayor a 25 es: {1-probabilidad2+probabilidad1:.4f}\")"
      ],
      "metadata": {
        "colab": {
          "base_uri": "https://localhost:8080/"
        },
        "id": "nylFPCCLP5c_",
        "outputId": "def5283c-7612-47d8-f4b0-5bf285efa402"
      },
      "execution_count": null,
      "outputs": [
        {
          "output_type": "stream",
          "name": "stdout",
          "text": [
            "La probabilidad de que el valor menor a 18 y mayor a 25 es: 0.2746\n"
          ]
        }
      ]
    },
    {
      "cell_type": "code",
      "source": [
        "from scipy import stats\n",
        "\n",
        "# Especifica la probabilidad acumulativa (entre 0 y 1)\n",
        "probabilidad = 0.30\n",
        "media = 23\n",
        "desviacion_estandar = 2.8\n",
        "\n",
        "# Calcula la inversa de la distribución normal\n",
        "valor_inverso = stats.norm.ppf(probabilidad, loc=media, scale=desviacion_estandar)\n",
        "\n",
        "# Imprime el valor de x correspondiente a la probabilidad acumulativa\n",
        "print(f\"El valor de x para P(x) = {probabilidad} en la distribución normal con media {media} y desviación estándar {desviacion_estandar} es: {valor_inverso:.0f}\")\n",
        "\n",
        "\n",
        "\n",
        "\n",
        "\n",
        "\n",
        "\n",
        "\n"
      ],
      "metadata": {
        "colab": {
          "base_uri": "https://localhost:8080/"
        },
        "id": "mRXbgq24SbGp",
        "outputId": "0d6c7235-3c4a-4c75-d182-384bc2789293"
      },
      "execution_count": null,
      "outputs": [
        {
          "output_type": "stream",
          "name": "stdout",
          "text": [
            "El valor de x para P(x) = 0.3 en la distribución normal con media 23 y desviación estándar 2.8 es: 22\n"
          ]
        }
      ]
    },
    {
      "cell_type": "code",
      "source": [
        "from scipy import stats\n",
        "\n",
        "# Especifica la probabilidad acumulativa (entre 0 y 1)\n",
        "probabilidad = 0.90\n",
        "media = 23\n",
        "desviacion_estandar = 2.8\n",
        "\n",
        "# Calcula la inversa de la distribución normal\n",
        "valor_inverso = stats.norm.ppf(probabilidad, loc=media, scale=desviacion_estandar)\n",
        "\n",
        "# Imprime el valor de x correspondiente a la probabilidad acumulativa\n",
        "print(f\"El valor de x para P(x) = {probabilidad} en la distribución normal con media {media} y desviación estándar {desviacion_estandar} es: {valor_inverso:.0f}\")"
      ],
      "metadata": {
        "colab": {
          "base_uri": "https://localhost:8080/"
        },
        "id": "R1uyAi1KV8YB",
        "outputId": "fe83d894-5d1f-4509-a2f4-8e45691646b1"
      },
      "execution_count": null,
      "outputs": [
        {
          "output_type": "stream",
          "name": "stdout",
          "text": [
            "El valor de x para P(x) = 0.9 en la distribución normal con media 23 y desviación estándar 2.8 es: 27\n"
          ]
        }
      ]
    },
    {
      "cell_type": "code",
      "source": [
        "from scipy import stats\n",
        "\n",
        "# Especifica la probabilidad acumulativa (entre 0 y 1)\n",
        "probabilidad = 0.99\n",
        "media = 23\n",
        "desviacion_estandar = 2.8\n",
        "\n",
        "# Calcula la inversa de la distribución normal\n",
        "valor_inverso = stats.norm.ppf(probabilidad, loc=media, scale=desviacion_estandar)\n",
        "\n",
        "# Imprime el valor de x correspondiente a la probabilidad acumulativa\n",
        "print(f\"El valor de x para P(x) = {probabilidad} en la distribución normal con media {media} y desviación estándar {desviacion_estandar} es: {valor_inverso:.0f}\")"
      ],
      "metadata": {
        "colab": {
          "base_uri": "https://localhost:8080/"
        },
        "id": "uL8Vhwe_Wf5y",
        "outputId": "3f0e2974-bf37-4882-d862-3afba80a1c9d"
      },
      "execution_count": null,
      "outputs": [
        {
          "output_type": "stream",
          "name": "stdout",
          "text": [
            "El valor de x para P(x) = 0.99 en la distribución normal con media 23 y desviación estándar 2.8 es: 30\n"
          ]
        }
      ]
    },
    {
      "cell_type": "code",
      "source": [
        "from scipy import stats\n",
        "\n",
        "# Especifica la probabilidad acumulativa (entre 0 y 1)\n",
        "probabilidad = 0.15\n",
        "media = 23\n",
        "desviacion_estandar = 2.8\n",
        "\n",
        "# Calcula la inversa de la distribución normal\n",
        "valor_inverso = stats.norm.ppf(probabilidad, loc=media, scale=desviacion_estandar)\n",
        "\n",
        "# Imprime el valor de x correspondiente a la probabilidad acumulativa\n",
        "print(f\"El valor de x para P(x) = {probabilidad} en la distribución normal con media {media} y desviación estándar {desviacion_estandar} es: {valor_inverso:.0f}\")"
      ],
      "metadata": {
        "colab": {
          "base_uri": "https://localhost:8080/"
        },
        "id": "kBfE-StaWnes",
        "outputId": "d395267c-e7f3-4139-8a38-a3177a479565"
      },
      "execution_count": null,
      "outputs": [
        {
          "output_type": "stream",
          "name": "stdout",
          "text": [
            "El valor de x para P(x) = 0.15 en la distribución normal con media 23 y desviación estándar 2.8 es: 20\n"
          ]
        }
      ]
    },
    {
      "cell_type": "code",
      "source": [
        "from scipy import stats\n",
        "\n",
        "# Especifica la probabilidad acumulativa (entre 0 y 1)\n",
        "probabilidad = 0.25\n",
        "media = 23\n",
        "desviacion_estandar = 2.8\n",
        "\n",
        "# Calcula la inversa de la distribución normal\n",
        "valor_inverso = stats.norm.ppf(probabilidad, loc=media, scale=desviacion_estandar)\n",
        "\n",
        "# Imprime el valor de x correspondiente a la probabilidad acumulativa\n",
        "print(f\"El valor de x para P(x) = {probabilidad} en la distribución normal con media {media} y desviación estándar {desviacion_estandar} es: {valor_inverso:.0f}\")"
      ],
      "metadata": {
        "id": "JdJNhED6XDi_",
        "outputId": "11ee6b9f-e078-4aa2-c2e3-1da1078d1883",
        "colab": {
          "base_uri": "https://localhost:8080/"
        }
      },
      "execution_count": null,
      "outputs": [
        {
          "output_type": "stream",
          "name": "stdout",
          "text": [
            "El valor de x para P(x) = 0.25 en la distribución normal con media 23 y desviación estándar 2.8 es: 21\n"
          ]
        }
      ]
    },
    {
      "cell_type": "code",
      "source": [
        "from scipy import stats\n",
        "\n",
        "# Especifica la probabilidad acumulativa (entre 0 y 1)\n",
        "probabilidad = 0.75\n",
        "media = 23\n",
        "desviacion_estandar = 2.8\n",
        "\n",
        "# Calcula la inversa de la distribución normal\n",
        "valor_inverso = stats.norm.ppf(probabilidad, loc=media, scale=desviacion_estandar)\n",
        "\n",
        "# Imprime el valor de x correspondiente a la probabilidad acumulativa\n",
        "print(f\"El valor de x para P(x) = {probabilidad} en la distribución normal con media {media} y desviación estándar {desviacion_estandar} es: {valor_inverso:.0f}\")"
      ],
      "metadata": {
        "id": "tXMTE4j2XHeE",
        "outputId": "a5a87eb6-7e6e-4882-aeea-5b9e4c77d1e0",
        "colab": {
          "base_uri": "https://localhost:8080/"
        }
      },
      "execution_count": null,
      "outputs": [
        {
          "output_type": "stream",
          "name": "stdout",
          "text": [
            "El valor de x para P(x) = 0.75 en la distribución normal con media 23 y desviación estándar 2.8 es: 25\n"
          ]
        }
      ]
    }
  ]
}